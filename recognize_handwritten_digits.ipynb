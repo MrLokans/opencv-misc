{
 "cells": [
  {
   "cell_type": "code",
   "execution_count": 1,
   "metadata": {
    "collapsed": false
   },
   "outputs": [],
   "source": [
    "%matplotlib inline\n",
    "\n",
    "import numpy as np\n",
    "import matplotlib.pyplot as plt\n",
    "\n",
    "from sklearn.externals import joblib\n",
    "from sklearn.datasets import fetch_mldata\n",
    "from skimage.feature import hog\n",
    "from sklearn.svm import LinearSVC\n",
    "\n",
    "import cv2"
   ]
  },
  {
   "cell_type": "code",
   "execution_count": null,
   "metadata": {
    "collapsed": false
   },
   "outputs": [],
   "source": [
    "# Load and cache MNIST dataset\n",
    "\n",
    "mnist = fetch_mldata('MNIST original')"
   ]
  },
  {
   "cell_type": "code",
   "execution_count": null,
   "metadata": {
    "collapsed": false
   },
   "outputs": [],
   "source": [
    "\n",
    "# Images\n",
    "features = np.array(mnist.data, 'int16')\n",
    "\n",
    "single_digit = features[0]\n",
    "plt.title('Digit from MNIST')\n",
    "plt.imshow(single_digit.reshape(28, 28), cmap='Greys')\n",
    "\n",
    "# Corresponding digit\n",
    "labels = np.array(mnist.target, 'int')\n",
    "\n",
    "# Calculate HOG features for every image in the dataset\n",
    "hog_features = []\n",
    "\n",
    "\n",
    "for feature in features:\n",
    "    fd = hog(feature.reshape(28, 28), orientations=9, pixels_per_cell=(14, 14), cells_per_block=(1, 1), visualise=False)\n",
    "    hog_features.append(fd)\n",
    "hog_features = np.array(hog_features, 'float64')"
   ]
  },
  {
   "cell_type": "code",
   "execution_count": null,
   "metadata": {
    "collapsed": false
   },
   "outputs": [],
   "source": [
    "clf = LinearSVC()\n",
    "clf.fit(hog_features, labels)\n",
    "\n",
    "# We save classifier to later avoid the need for re-computation\n",
    "joblib.dump(clf, \"digits_classificated.pkl\", compress=True)"
   ]
  },
  {
   "cell_type": "code",
   "execution_count": null,
   "metadata": {
    "collapsed": false
   },
   "outputs": [],
   "source": [
    "def show_image(img, title=\"\", gray=False):\n",
    "    # We need to change default BGR to RGB\n",
    "    if gray:\n",
    "        new_img = cv2.cvtColor(img, cv2.COLOR_GRAY2RGB)\n",
    "    else:\n",
    "        new_img = cv2.cvtColor(img, cv2.COLOR_BGR2RGB)\n",
    "    plt.title(title)\n",
    "    plt.imshow(new_img)\n",
    "    plt.show()\n",
    "\n",
    "digit_image = 'digits.jpg'\n",
    "\n",
    "im = cv2.imread(digit_image)\n",
    "\n",
    "# Turn to grayscale\n",
    "im_gray = cv2.cvtColor(im, cv2.COLOR_BGR2GRAY)\n",
    "# Apply blur to remove noise\n",
    "im_gray = cv2.GaussianBlur(im_gray, (5, 5), 0)\n",
    "\n",
    "show_image(im_gray, title='Grayscale', gray=True)\n"
   ]
  },
  {
   "cell_type": "code",
   "execution_count": null,
   "metadata": {
    "collapsed": false
   },
   "outputs": [],
   "source": [
    "# Remove noise from the image\n",
    "denoised = cv2.fastNlMeansDenoising(im_gray, h=15)\n",
    "show_image(denoised, title='Denoised', gray=True)\n",
    "\n",
    "# Threshold pixels\n",
    "ret, im_th = cv2.threshold(denoised, 100, 255, cv2.THRESH_BINARY_INV)\n",
    "\n",
    "show_image(im_th, title='Thresholded', gray=True)"
   ]
  },
  {
   "cell_type": "code",
   "execution_count": null,
   "metadata": {
    "collapsed": false
   },
   "outputs": [],
   "source": [
    "import itertools\n",
    "\n",
    "CONTOUR_COLOR = (0, 255, 0)\n",
    "CONTOUR_THICK = 2\n",
    "CONTOUR_SCALE_FACTOR = 1.1\n",
    "\n",
    "_, contours, hier = cv2.findContours(im_th.copy(), cv2.RETR_EXTERNAL, cv2.CHAIN_APPROX_SIMPLE)\n",
    "# Find bounding rectangles for each contour\n",
    "\n",
    "rects = [cv2.boundingRect(ctr) for ctr in contours]\n",
    "\n",
    "image_copy = im.copy()\n",
    "\n",
    "predicted_digits = []\n",
    "for i, rect in enumerate(rects):\n",
    "    # Draw each rectangle\n",
    "    x1, y1 = rect[0], rect[1]\n",
    "    x2, y2 = rect[0] + rect[2], rect[1] + rect[3]\n",
    "    cv2.rectangle(image_copy, (x1, y1), (x2, y2), CONTOUR_COLOR, CONTOUR_THICK)\n",
    "    \n",
    "    # We need to create rectangle region around the digit\n",
    "    # with some space in order for recognition algorithm to work correctly\n",
    "    new_width = int(CONTOUR_SCALE_FACTOR * rect[2])\n",
    "    new_height = int(CONTOUR_SCALE_FACTOR * rect[3])\n",
    "    new_x = x1 + rect[2] // 2 - new_width // 2\n",
    "    new_y = y1 + rect[3] // 2 - new_height // 2\n",
    "    digit = im_th[new_y:new_y + new_height, new_x:new_x + new_width]\n",
    "\n",
    "    cv2.rectangle(image_copy, (new_x, new_y), (new_x + new_width, new_y + new_height), (0, 0, 200), CONTOUR_THICK)\n",
    "\n",
    "    resized = cv2.resize(digit, (28, 28), interpolation=cv2.INTER_AREA)\n",
    "    dilated = cv2.dilate(resized, (4, 4))\n",
    "    # Calculate HOG features for the new image\n",
    "    calculated_hog = hog(dilated, orientations=9,\n",
    "                         pixels_per_cell=(14, 14),\n",
    "                         cells_per_block=(1, 1),\n",
    "                         visualise=False)\n",
    "    predicted_number = int(clf.predict(np.array([calculated_hog], 'float64'))[0])\n",
    "    \n",
    "    predicted_digits.append(predicted_number)\n",
    "    cv2.putText(image_copy, str(predicted_number),\n",
    "                (rect[0], rect[1]), cv2.FONT_HERSHEY_DUPLEX, 2, (0, 255, 255), 3)\n",
    "#     break\n",
    "\n",
    "show_image(image_copy, title='Recognized')\n",
    "\n",
    "ACTUAL_DIGITS = [6, 7, 9, 8, \n",
    "                 4, 2, 3, 5, \n",
    "                 6, 7, 9, 8,\n",
    "                 3, 1, 4, 2,\n",
    "                 5]\n",
    "print(\"Actual digits: {}\".format(ACTUAL_DIGITS))\n",
    "print(\"Predicted digits: {}\".format(predicted_digits))\n",
    "\n",
    "correct = [(a, p) for (a,p) in zip(ACTUAL_DIGITS, predicted_digits) if a == p]\n",
    "print(\"Prediction quotient: {}\".format(len(correct) / len(ACTUAL_DIGITS)))"
   ]
  }
 ],
 "metadata": {
  "kernelspec": {
   "display_name": "Python 3",
   "language": "python",
   "name": "python3"
  },
  "language_info": {
   "codemirror_mode": {
    "name": "ipython",
    "version": 3
   },
   "file_extension": ".py",
   "mimetype": "text/x-python",
   "name": "python",
   "nbconvert_exporter": "python",
   "pygments_lexer": "ipython3",
   "version": "3.5.2"
  }
 },
 "nbformat": 4,
 "nbformat_minor": 1
}
